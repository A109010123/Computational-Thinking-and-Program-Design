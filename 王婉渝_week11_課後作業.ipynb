{
  "nbformat": 4,
  "nbformat_minor": 0,
  "metadata": {
    "colab": {
      "name": "王婉渝-week11-課後作業",
      "provenance": [],
      "include_colab_link": true
    },
    "kernelspec": {
      "name": "python3",
      "display_name": "Python 3"
    },
    "language_info": {
      "name": "python"
    }
  },
  "cells": [
    {
      "cell_type": "markdown",
      "metadata": {
        "id": "view-in-github",
        "colab_type": "text"
      },
      "source": [
        "<a href=\"https://colab.research.google.com/github/A109010123/Computational-Thinking-and-Program-Design/blob/main/%E7%8E%8B%E5%A9%89%E6%B8%9D_week11_%E8%AA%B2%E5%BE%8C%E4%BD%9C%E6%A5%AD.ipynb\" target=\"_parent\"><img src=\"https://colab.research.google.com/assets/colab-badge.svg\" alt=\"Open In Colab\"/></a>"
      ]
    },
    {
      "cell_type": "code",
      "metadata": {
        "id": "XYSUO5dz7X6S"
      },
      "source": [
        "组长：张轩绮\n",
        "组员：郭思綦\n",
        "   王婉渝\n",
        "   张嘉恩"
      ],
      "execution_count": null,
      "outputs": []
    },
    {
      "cell_type": "markdown",
      "metadata": {
        "id": "QP2YhZoP7Zzm"
      },
      "source": [
        "聊天机器人\n",
        "“你好，请问你叫什么名字？”\n",
        "“name，很高兴认识你！”\n",
        "“你今年几岁了？”\n",
        "“好巧，我也是~”\n",
        "“有对象吗？”\n",
        "“哇，这样真不错！”\n",
        "“你喜欢吃什么？”\n",
        "“我喜欢吃意大利面。”\n",
        "“你吃辣吗？”\n",
        "“我只爱吃甜的。”"
      ]
    },
    {
      "cell_type": "code",
      "metadata": {
        "id": "IUKfh5iV7wNj"
      },
      "source": [
        ""
      ],
      "execution_count": null,
      "outputs": []
    }
  ]
}