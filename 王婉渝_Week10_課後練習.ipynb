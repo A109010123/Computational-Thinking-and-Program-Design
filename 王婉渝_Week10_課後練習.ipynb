{
  "nbformat": 4,
  "nbformat_minor": 0,
  "metadata": {
    "kernelspec": {
      "display_name": "Python 3",
      "language": "python",
      "name": "python3"
    },
    "language_info": {
      "codemirror_mode": {
        "name": "ipython",
        "version": 3
      },
      "file_extension": ".py",
      "mimetype": "text/x-python",
      "name": "python",
      "nbconvert_exporter": "python",
      "pygments_lexer": "ipython3",
      "version": "3.8.5"
    },
    "colab": {
      "name": "王婉渝-Week10-課後練習.ipynb",
      "provenance": [],
      "collapsed_sections": [],
      "include_colab_link": true
    }
  },
  "cells": [
    {
      "cell_type": "markdown",
      "metadata": {
        "id": "view-in-github",
        "colab_type": "text"
      },
      "source": [
        "<a href=\"https://colab.research.google.com/github/A109010123/Computational-Thinking-and-Program-Design/blob/main/%E7%8E%8B%E5%A9%89%E6%B8%9D_Week10_%E8%AA%B2%E5%BE%8C%E7%B7%B4%E7%BF%92.ipynb\" target=\"_parent\"><img src=\"https://colab.research.google.com/assets/colab-badge.svg\" alt=\"Open In Colab\"/></a>"
      ]
    },
    {
      "cell_type": "markdown",
      "metadata": {
        "id": "TmFHEU28a5dQ"
      },
      "source": [
        "# 基本程式設計(應用篇)"
      ]
    },
    {
      "cell_type": "markdown",
      "metadata": {
        "id": "pLsDaxV4a5dS"
      },
      "source": [
        "### 4-2 運算思維四個基石"
      ]
    },
    {
      "cell_type": "markdown",
      "metadata": {
        "id": "50iOjecAa5dU"
      },
      "source": [
        "#### 4-2-4  問題拆解 - 打造你的聊天機器人"
      ]
    },
    {
      "cell_type": "markdown",
      "metadata": {
        "id": "T1NrYIrYa5dU"
      },
      "source": [
        "「哈囉，大家好。我叫Zyxo64，是一個聊天機器人。\n",
        "\n",
        "在嗜好與興趣方面，我很喜歡美食，也喜歡養動物。\n",
        "\n",
        "很高興有機會來到世新大學，請大家多多指教。\n",
        "\n",
        "嗨！妳好，請問大名？：Francis。\n",
        "\n",
        "Francis，很高興認識你。"
      ]
    },
    {
      "cell_type": "code",
      "metadata": {
        "id": "gvcitu83a5dV",
        "colab": {
          "base_uri": "https://localhost:8080/"
        },
        "outputId": "1408a642-e720-4291-99b1-b1529d2dd9b2"
      },
      "source": [
        "# 1.聊天機器人自我介紹\n",
        "print(\"哈囉，大家好。我叫Zyxo64，是一個聊天機器人。\")\n",
        "print(f\"在嗜好與興趣方面，我很喜歡美食，也喜歡養動物。\")\n",
        "hello = \"很高興有機會來到世新大學，請大家多多指教。\"\n",
        "print(hello)\n",
        "\n",
        "# 2. 打招呼，取得對方名字\n",
        "name = input(\"嗨！妳好，請問大名？：\")\n",
        "print(f\"{name}, 很高興認識你。\")\n"
      ],
      "execution_count": null,
      "outputs": [
        {
          "output_type": "stream",
          "text": [
            "哈囉，大家好。我叫Zyxo64，是一個聊天機器人。\n",
            "在嗜好與興趣方面，我很喜歡美食，也喜歡養動物。\n",
            "很高興有機會來到世新大學，請大家多多指教。\n",
            "嗨！妳好，請問大名？：aa\n",
            "aa, 很高興認識你。\n"
          ],
          "name": "stdout"
        }
      ]
    },
    {
      "cell_type": "markdown",
      "metadata": {
        "id": "1K8uivaXa5dW"
      },
      "source": [
        "抱歉，請問一下今年是西元2021年，那是民國幾年呢？：*110*。\n",
        "\n",
        "對！沒錯，謝謝妳！\n",
        "\n",
        "**Francis**，猜猜看我今年幾歲？ ：**18**。\n",
        "\n",
        "哇！你好聰明，我今年的確*18*。\n",
        "\n",
        "再82年我就100歲了。\n",
        "\n",
        "那時候是西元 2103年，也就是民國192年囉！"
      ]
    },
    {
      "cell_type": "code",
      "metadata": {
        "id": "ElNSgXYja5dW",
        "colab": {
          "base_uri": "https://localhost:8080/"
        },
        "outputId": "6d32124d-efa2-4fb8-d8a5-9fdfd3bab3d4"
      },
      "source": [
        "# 3. 數學運算\n",
        "## 3-1 從使用者取得今年年份\n",
        "year = input(\"請問一下今年是西元2021年，那是民國幾年呢？\")\n",
        "print(\"對！沒錯，謝謝妳！\")\n",
        "## 3-2 請使用者猜年齡\n",
        "age = input(\"Francis，猜猜看我今年幾歲？ \")\n",
        "print(\"哇！你好聰明，我今年的確\",age)\n",
        "\n",
        "## 3-3 計算聊天機器人滿100歲的年份\n",
        "nyears = 100-int(age)\n",
        "print(f\"再{nyears}年我就100歲了。\")\n",
        "total = 1911 + 110 + nyears\n",
        "print(f\"那時候是西元 {total}年\")\n"
      ],
      "execution_count": 2,
      "outputs": [
        {
          "output_type": "stream",
          "text": [
            "對！沒錯，謝謝妳！\n",
            "Francis，猜猜看我今年幾歲？ 19\n",
            "哇！你好聰明，我今年的確 19\n",
            "再81年我就100歲了。\n",
            "那時候是西元 2102年\n"
          ],
          "name": "stdout"
        }
      ]
    },
    {
      "cell_type": "markdown",
      "metadata": {
        "id": "eS3Ilz0Ca5dX"
      },
      "source": [
        "我喜歡吃巧克力，也喜歡嘗試各種新食物。\n",
        "\n",
        "你呢？你最喜歡的食物是什麼？**:披薩**。\n",
        "\n",
        "我也喜歡 *披薩*。\n",
        "\n",
        "你多久吃一次 *披薩*？**：每天**。\n",
        "\n",
        "真有趣。不知道這樣對健康好不好。"
      ]
    },
    {
      "cell_type": "code",
      "metadata": {
        "id": "fwXTaaNYa5dX",
        "colab": {
          "base_uri": "https://localhost:8080/"
        },
        "outputId": "fe731d41-5fd8-49a1-b055-170192aaa879"
      },
      "source": [
        "# 4 興趣\n",
        "## 4-1 食物話題\n",
        "print(\"我喜歡吃巧克力，也喜歡嘗試各種新食物。\")\n",
        "food = input(\"你呢？你最喜歡的食物是什麼？;\")\n",
        "print(\"我也喜歡\", food)\n",
        "\n",
        "question = \"你多久吃一次\" + food +\"?;\"\n",
        "howoften = input(question)\n",
        "print(\"真有趣。不知道這樣對健康好不好。\")\n",
        "\n"
      ],
      "execution_count": null,
      "outputs": [
        {
          "output_type": "stream",
          "text": [
            "我喜歡吃巧克力，也喜歡嘗試各種新食物。\n",
            "你呢？你最喜歡的食物是什麼？;披薩\n",
            "我也喜歡 披薩\n",
            "你多久吃一次披薩?;每天\n",
            "真有趣。不知道這樣對健康好不好。\n"
          ],
          "name": "stdout"
        }
      ]
    },
    {
      "cell_type": "markdown",
      "metadata": {
        "id": "63QU6oLwa5dY"
      },
      "source": [
        "我最喜歡的動物是長頸鹿。你呢？ **：烏龜**。\n",
        "\n",
        "我不喜歡*烏龜*！\n",
        "\n",
        "不知道 *烏龜* 喜不喜歡吃 *披薩*？"
      ]
    },
    {
      "cell_type": "code",
      "metadata": {
        "id": "r9Hxr6xRa5dY",
        "colab": {
          "base_uri": "https://localhost:8080/"
        },
        "outputId": "fe07dd34-e8b8-408f-d6d5-96a83a3ba230"
      },
      "source": [
        "# 4 興趣\n",
        "## 4-2 動物話題\n",
        "animal = input(\"我最喜歡的動物是長頸鹿。你呢？ ：\")\n",
        "print(f\"我不喜歡{animal}\")\n",
        "print(f\"不知道{animal}喜不喜歡吃{food}\")"
      ],
      "execution_count": null,
      "outputs": [
        {
          "output_type": "stream",
          "text": [
            "我最喜歡的動物是長頸鹿。你呢？ ：烏龜\n",
            "我不喜歡烏龜\n",
            "不知道烏龜喜不喜歡吃披薩\n"
          ],
          "name": "stdout"
        }
      ]
    },
    {
      "cell_type": "markdown",
      "metadata": {
        "id": "1Ped4n0Pa5dZ"
      },
      "source": [
        "你今天的心情如何？ **：很開心**。\n",
        "\n",
        "可以告訴我你 *開心* 的原因嗎？**因為週末了！** \n",
        "\n",
        "祝你週末愉快！\n",
        "\n",
        "我喜歡跟你聊天，現在有點累了，改天再聊吧！！\n",
        "\n",
        "再見 *Francis*！"
      ]
    },
    {
      "cell_type": "code",
      "metadata": {
        "id": "eEkyGBc7a5dZ",
        "colab": {
          "base_uri": "https://localhost:8080/"
        },
        "outputId": "238b358a-98c6-4e7e-f378-98fb8e52d80e"
      },
      "source": [
        "# 5. 關於心情的對話\n",
        "feeling = input(\"你今天的心情如何？ ：\")\n",
        "print(\"可以告訴我你\", feeling, \"的原因。\")\n",
        "reason = input(\"為什麼; \")\n",
        "print(\"我知道了。謝謝分享。\")"
      ],
      "execution_count": null,
      "outputs": [
        {
          "output_type": "stream",
          "text": [
            "你今天的心情如何？ ：開心\n",
            "可以告訴我你 開心 的原因。\n",
            "為什麼; 放假\n",
            "我知道了。謝謝分享。\n"
          ],
          "name": "stdout"
        }
      ]
    },
    {
      "cell_type": "markdown",
      "metadata": {
        "id": "eWph17iVa5dZ"
      },
      "source": [
        "我喜歡跟你聊天，現在有點累了，改天再聊吧！！\n",
        "\n",
        "再見 *Francis*！"
      ]
    },
    {
      "cell_type": "code",
      "metadata": {
        "id": "EfvCvgNUa5da",
        "colab": {
          "base_uri": "https://localhost:8080/"
        },
        "outputId": "56d0b242-106b-4c55-9c0d-85e1be0e5ca1"
      },
      "source": [
        "# 6. 道別\n",
        "print(\"祝你周末愉快!\")\n",
        "print(\"我喜歡跟你聊天，現在有點累了，下次再聊!\")\n",
        "print(\"再見，\", name, \"。我喜歡跟你聊天!\")"
      ],
      "execution_count": null,
      "outputs": [
        {
          "output_type": "stream",
          "text": [
            "祝你周末愉快!\n",
            "我喜歡跟你聊天，現在有點累了，下次再聊!\n",
            "再見， amy 。我喜歡跟你聊天!\n"
          ],
          "name": "stdout"
        }
      ]
    },
    {
      "cell_type": "code",
      "metadata": {
        "id": "01Bo-nPYcge3"
      },
      "source": [
        ""
      ],
      "execution_count": null,
      "outputs": []
    }
  ]
}