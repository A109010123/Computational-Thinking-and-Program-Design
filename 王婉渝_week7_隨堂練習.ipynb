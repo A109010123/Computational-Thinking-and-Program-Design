{
  "nbformat": 4,
  "nbformat_minor": 0,
  "metadata": {
    "colab": {
      "name": "王婉渝-week7-隨堂練習.ipynb",
      "provenance": [],
      "authorship_tag": "ABX9TyMT8aQr6MNKiFjc0f3SssSK",
      "include_colab_link": true
    },
    "kernelspec": {
      "name": "python3",
      "display_name": "Python 3"
    },
    "language_info": {
      "name": "python"
    }
  },
  "cells": [
    {
      "cell_type": "markdown",
      "metadata": {
        "id": "view-in-github",
        "colab_type": "text"
      },
      "source": [
        "<a href=\"https://colab.research.google.com/github/A109010123/Computational-Thinking-and-Program-Design/blob/main/%E7%8E%8B%E5%A9%89%E6%B8%9D_week7_%E9%9A%A8%E5%A0%82%E7%B7%B4%E7%BF%92.ipynb\" target=\"_parent\"><img src=\"https://colab.research.google.com/assets/colab-badge.svg\" alt=\"Open In Colab\"/></a>"
      ]
    },
    {
      "cell_type": "code",
      "metadata": {
        "colab": {
          "base_uri": "https://localhost:8080/",
          "height": 133
        },
        "id": "swl5YHKWYpTB",
        "outputId": "63e56097-24a2-45e3-d045-efe904d62358"
      },
      "source": [
        "1\n",
        "2\n",
        "3fruit = \"Apple\"\n",
        "4number = 2\n",
        "5total = total + number\n",
        "6# print(\"摘了\")，fruit，= \"Apple\"\n",
        "4number = 2\n",
        "5total = total + number\n",
        "6　# print(\"摘了\")，fruit\n",
        "7\n",
        "8\n",
        "9\n",
        "10\n",
        "11\n",
        "12"
      ],
      "execution_count": 1,
      "outputs": [
        {
          "output_type": "error",
          "ename": "SyntaxError",
          "evalue": "ignored",
          "traceback": [
            "\u001b[0;36m  File \u001b[0;32m\"<ipython-input-1-bc1c911bc9a4>\"\u001b[0;36m, line \u001b[0;32m1\u001b[0m\n\u001b[0;31m    3fruit = \"Apple\"\u001b[0m\n\u001b[0m         ^\u001b[0m\n\u001b[0;31mSyntaxError\u001b[0m\u001b[0;31m:\u001b[0m invalid syntax\n"
          ]
        }
      ]
    },
    {
      "cell_type": "code",
      "metadata": {
        "colab": {
          "base_uri": "https://localhost:8080/",
          "height": 133
        },
        "id": "M6PvU9hDhTf1",
        "outputId": "3429e00b-92b5-4fce-ac2f-19322e23a250"
      },
      "source": [
        "1# Input\n",
        "2 p = 3.14\n",
        "3 r1 = input(\"Enter radius 1:\")\n",
        "4 r2 = input(\"Enter radius 2:\")\n",
        "5 r1 = float(r1)\n",
        "6 r2 = float(r2)\n",
        "7\n",
        "8 ## Process\n",
        "9 area1 = p * r2 * r1\n",
        "10 area2 = p * r2 * r2\n",
        "11 area = area1 - area2\n",
        "12\n",
        "13 ## Output\n",
        "14 print(f\"得出來的答案為[areal]\"\")"
      ],
      "execution_count": 10,
      "outputs": [
        {
          "output_type": "error",
          "ename": "SyntaxError",
          "evalue": "ignored",
          "traceback": [
            "\u001b[0;36m  File \u001b[0;32m\"<ipython-input-10-9020aeebefe1>\"\u001b[0;36m, line \u001b[0;32m2\u001b[0m\n\u001b[0;31m    2 p = 3.14\u001b[0m\n\u001b[0m      ^\u001b[0m\n\u001b[0;31mSyntaxError\u001b[0m\u001b[0;31m:\u001b[0m invalid syntax\n"
          ]
        }
      ]
    },
    {
      "cell_type": "code",
      "metadata": {
        "id": "g5jItTxvouNw"
      },
      "source": [
        ""
      ],
      "execution_count": 2,
      "outputs": []
    }
  ]
}