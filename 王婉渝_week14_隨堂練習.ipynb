{
  "nbformat": 4,
  "nbformat_minor": 0,
  "metadata": {
    "colab": {
      "name": "王婉渝_week14_隨堂練習",
      "provenance": [],
      "authorship_tag": "ABX9TyPzaDhk1f5gVnSKIUsiv525",
      "include_colab_link": true
    },
    "kernelspec": {
      "name": "python3",
      "display_name": "Python 3"
    },
    "language_info": {
      "name": "python"
    }
  },
  "cells": [
    {
      "cell_type": "markdown",
      "metadata": {
        "id": "view-in-github",
        "colab_type": "text"
      },
      "source": [
        "<a href=\"https://colab.research.google.com/github/A109010123/Computational-Thinking-and-Program-Design/blob/main/%E7%8E%8B%E5%A9%89%E6%B8%9D_week14_%E9%9A%A8%E5%A0%82%E7%B7%B4%E7%BF%92.ipynb\" target=\"_parent\"><img src=\"https://colab.research.google.com/assets/colab-badge.svg\" alt=\"Open In Colab\"/></a>"
      ]
    },
    {
      "cell_type": "markdown",
      "metadata": {
        "id": "vGW-HIRqStK5"
      },
      "source": [
        "應用練習 1：電影評價\n",
        "movie_title = input('請輸入電影的名稱:') movie_rating = float(input('請輸入電影的評等:'))\n",
        "\n",
        "單向選擇 if條件句\n",
        "if movie_rating > 7: print(f\"{movie_titl}的評分為{movie_rating}分值得去看！\")\n",
        "\n",
        "二合一的單向選擇\n",
        "if movie_rating > 7: print(f\"{}的評分為 {} 分值得去看！\") if movie_rating <= 7: print(f\"{}的評分為 {} 分不值得去看！\")\n",
        "\n",
        "雙向選擇\n",
        "if movie_rating > 7: print(f\"{}的評分為 {} 分值得去看！\") else: print(f\"{}的評分為 {} 分不值得去看！\")\n",
        "\n",
        "多向選擇\n",
        "if movie_rating > 7: print(f\"{}的評分為 {} 分值得去看！\") elif movie_rating > 6: print(f\"{}的評分為 {} 分不值得去看！\") else: print(f\"{}的評分為 {} 分不要看!\")"
      ]
    },
    {
      "cell_type": "code",
      "metadata": {
        "colab": {
          "base_uri": "https://localhost:8080/"
        },
        "id": "NaNc_QsUTYlE",
        "outputId": "aff3640c-dcd8-47a4-b854-4950a9fa3709"
      },
      "source": [
        "movie_title=input('請輸入電影名稱:')\n",
        "movie_rating=float(input('請輸入點影的評等:'))"
      ],
      "execution_count": 2,
      "outputs": [
        {
          "output_type": "stream",
          "text": [
            "請輸入電影名稱:安娜\n",
            "請輸入點影的平等:7.8\n"
          ],
          "name": "stdout"
        }
      ]
    },
    {
      "cell_type": "markdown",
      "metadata": {
        "id": "DYD39tXyeVYc"
      },
      "source": [
        "##單項選擇"
      ]
    },
    {
      "cell_type": "code",
      "metadata": {
        "colab": {
          "base_uri": "https://localhost:8080/"
        },
        "id": "dkbhSbL9WC0x",
        "outputId": "90d0a70d-dfdd-4b57-935f-d0dcb81adcdd"
      },
      "source": [
        "if movie_rating>7:\n",
        "   print(f'{movie_title}的評分為{movie_rating}分值得去看！')"
      ],
      "execution_count": 7,
      "outputs": [
        {
          "output_type": "stream",
          "text": [
            "安娜的評分為7.8分值得去看！\n"
          ],
          "name": "stdout"
        }
      ]
    },
    {
      "cell_type": "markdown",
      "metadata": {
        "id": "vDnhEBBGecCN"
      },
      "source": [
        "##二合一的單項選擇"
      ]
    },
    {
      "cell_type": "code",
      "metadata": {
        "colab": {
          "base_uri": "https://localhost:8080/"
        },
        "id": "4flFULzJV487",
        "outputId": "ade9441d-feb0-427b-8ca8-5248e1208523"
      },
      "source": [
        "if movie_rating > 7: \n",
        "        print(f\"{movie_title}的評分為 {movie_rating} 分值得去看！\") \n",
        "if movie_rating <= 7: \n",
        "        print(f\"{movie_title}的評分為 {movie_rating} 分不值得去看！\")"
      ],
      "execution_count": 8,
      "outputs": [
        {
          "output_type": "stream",
          "text": [
            "安娜的評分為 7.8 分值得去看！\n"
          ],
          "name": "stdout"
        }
      ]
    },
    {
      "cell_type": "markdown",
      "metadata": {
        "id": "gm8A6ASgeraB"
      },
      "source": [
        "##雙向選擇"
      ]
    },
    {
      "cell_type": "code",
      "metadata": {
        "colab": {
          "base_uri": "https://localhost:8080/"
        },
        "id": "llE5hPlpevBX",
        "outputId": "e39ae78d-2286-4321-87d3-b420a29ef1c3"
      },
      "source": [
        "if movie_rating > 7: \n",
        "         print(f\"{movie_title}的評分為 {movie_rating} 分值得去看！\") \n",
        "else: \n",
        "  print(f\"{movie_title}的評分為 {movie_rating} 分不值得去看！\")"
      ],
      "execution_count": 10,
      "outputs": [
        {
          "output_type": "stream",
          "text": [
            "安娜的評分為 7.8 分值得去看！\n"
          ],
          "name": "stdout"
        }
      ]
    },
    {
      "cell_type": "markdown",
      "metadata": {
        "id": "60oSJMNae5Rw"
      },
      "source": [
        "##多項選擇"
      ]
    },
    {
      "cell_type": "code",
      "metadata": {
        "colab": {
          "base_uri": "https://localhost:8080/"
        },
        "id": "g8iljY-de9gt",
        "outputId": "e0b37ee6-81f7-497d-82c0-214d309292c9"
      },
      "source": [
        "if movie_rating > 7: \n",
        "        print(f\"{movie_title}的評分為 {movie_rating} 分值得去看！\") \n",
        "elif movie_rating > 6: \n",
        "        print(f\"{movie_title}的評分為 {movie_rating} 分不值得去看！\") \n",
        "else: \n",
        "    print(f\"{movie_title}的評分為 {movie_rating} 分不要看!\")"
      ],
      "execution_count": 11,
      "outputs": [
        {
          "output_type": "stream",
          "text": [
            "安娜的評分為 7.8 分值得去看！\n"
          ],
          "name": "stdout"
        }
      ]
    },
    {
      "cell_type": "markdown",
      "metadata": {
        "id": "TsDIet9qYdLX"
      },
      "source": [
        "應用練習 2：依照身份證字號，排隊領口罩\n",
        "user_int = int(input(\"請輸入一個正整數：\"))\n",
        "\n",
        "單向選擇\n",
        "if user_int % 2 == 0: ans = \"偶數，請星期二四六日領口罩\" if user_int % 2 == 1: ans = \"奇數，請星期一三五日領口罩\" print(ans)\n",
        "\n",
        "雙向選擇\n",
        "if user_int % 2 == 0: ans = \"偶數，請星期二四六日領口罩\" else: ans = \"奇數，請星期一三五日領口罩\" print(ans)"
      ]
    },
    {
      "cell_type": "markdown",
      "metadata": {
        "id": "Ebdi7IQJfxJH"
      },
      "source": [
        "##輸入號碼"
      ]
    },
    {
      "cell_type": "code",
      "metadata": {
        "colab": {
          "base_uri": "https://localhost:8080/"
        },
        "id": "Vy3MMXDmf1pG",
        "outputId": "252650a4-2218-4dfd-f064-7937655f4179"
      },
      "source": [
        "user_int=int(input(\"請輸入身分證的最後一個整數：!\"))\n"
      ],
      "execution_count": 22,
      "outputs": [
        {
          "output_type": "stream",
          "text": [
            "請輸入身分證的最後一個整數：!5\n"
          ],
          "name": "stdout"
        }
      ]
    },
    {
      "cell_type": "markdown",
      "metadata": {
        "id": "PM26l0QJgIt1"
      },
      "source": [
        "##單項選擇"
      ]
    },
    {
      "cell_type": "code",
      "metadata": {
        "colab": {
          "base_uri": "https://localhost:8080/"
        },
        "id": "hTQmuU8RgPe7",
        "outputId": "6981ac9d-8caa-422d-ec96-b9acc935aa04"
      },
      "source": [
        "if user_int % 2 ==0:\n",
        "  ans=\"偶數，請星期二四六日領口罩\"\n",
        "if user_int % 2 ==1:\n",
        "  ans=\"奇數，請星期一三五日領口罩\"\n",
        "print(ans)"
      ],
      "execution_count": 23,
      "outputs": [
        {
          "output_type": "stream",
          "text": [
            "奇數，請星期一三五日領口罩\n"
          ],
          "name": "stdout"
        }
      ]
    },
    {
      "cell_type": "markdown",
      "metadata": {
        "id": "LjUsU_X6g2j-"
      },
      "source": [
        "##雙向選擇"
      ]
    },
    {
      "cell_type": "code",
      "metadata": {
        "colab": {
          "base_uri": "https://localhost:8080/"
        },
        "id": "cxPTbTy8hC4J",
        "outputId": "3a038ce3-6cfc-476e-8183-e45eabec815b"
      },
      "source": [
        "user_int=input(\"請輸入一個正整數\")\n",
        "user_int=int(user_int)\n",
        "if user_int % 2 == 0:\n",
        "   ans=\"偶數，請星期二四六日領口罩\"\n",
        "else:\n",
        "   ans=\"奇數，請星期一三五日領口罩\"\n",
        "print(ans)"
      ],
      "execution_count": 28,
      "outputs": [
        {
          "output_type": "stream",
          "text": [
            "請輸入一個正整數5\n",
            "奇數，請星期一三五日領口罩\n"
          ],
          "name": "stdout"
        }
      ]
    },
    {
      "cell_type": "markdown",
      "metadata": {
        "id": "eGAn1tN1kAXp"
      },
      "source": [
        "##判斷奇數偶數"
      ]
    },
    {
      "cell_type": "code",
      "metadata": {
        "colab": {
          "base_uri": "https://localhost:8080/"
        },
        "id": "rdfhqPaOkGGP",
        "outputId": "9783d0a4-aea1-4cec-e5bb-203a56a802bd"
      },
      "source": [
        "id_number=input(\"請輸入身分證字號:\")\n",
        "\n",
        "id_last_digit=id_number[-1] #由右往左數\n",
        "id_last_digit=int(id_last_digit) #文字轉數字\n",
        "if id_last_digit%2==0:\n",
        "   ans=\"偶數，請星期二四六日領口罩\"\n",
        "else:\n",
        "   ans=\"奇數，請星期一三五日領口罩\"\n",
        "print(ans)"
      ],
      "execution_count": 35,
      "outputs": [
        {
          "output_type": "stream",
          "text": [
            "請輸入身分證字號:x220456789\n",
            "奇數，請星期一三五日領口罩\n"
          ],
          "name": "stdout"
        }
      ]
    },
    {
      "cell_type": "markdown",
      "metadata": {
        "id": "xOIbJMpKlvQr"
      },
      "source": [
        "##判斷性別"
      ]
    },
    {
      "cell_type": "code",
      "metadata": {
        "colab": {
          "base_uri": "https://localhost:8080/"
        },
        "id": "DmeSB65WYo61",
        "outputId": "4b456025-d7b2-4479-b62c-c8b6fe4008e1"
      },
      "source": [
        "id_number=input(\"請輸入身分證字號\")\n",
        "id_second_digit=id_number[1]\n",
        "if id_second_digit=='1':\n",
        "   gender=\"male\"\n",
        "else:\n",
        "   gender=\"female\"\n",
        "print(gender)"
      ],
      "execution_count": 34,
      "outputs": [
        {
          "output_type": "stream",
          "text": [
            "請輸入身分證字號x220456789\n",
            "female\n"
          ],
          "name": "stdout"
        }
      ]
    },
    {
      "cell_type": "markdown",
      "metadata": {
        "id": "BwWDEyv9YpXr"
      },
      "source": [
        "應用練習 3：冒險遊戲 - 過去還是未來"
      ]
    },
    {
      "cell_type": "code",
      "metadata": {
        "id": "TVFLMs0-Yxnu"
      },
      "source": [
        "##"
      ],
      "execution_count": null,
      "outputs": []
    },
    {
      "cell_type": "markdown",
      "metadata": {
        "id": "oUKZvIZyTFpo"
      },
      "source": [
        "應⽤練習3: 剪⼑⽯頭布 ⽬標: 設計和電腦對戰的遊戲 加分題: 棒打老虎雞吃蟲"
      ]
    },
    {
      "cell_type": "code",
      "metadata": {
        "colab": {
          "base_uri": "https://localhost:8080/"
        },
        "id": "ooEGVYkhTYHa",
        "outputId": "ffe0012a-a947-4643-f1fc-38673c706143"
      },
      "source": [
        "my=int(input(\"請出拳[0]剪刀[1]石頭[2]布\"))\n",
        "print(\"我出拳為\",my)\n",
        "\n",
        "import random\n",
        "computer=random.randint(0,2)\n",
        "print(\"電腦出拳為\",computer)\n"
      ],
      "execution_count": 49,
      "outputs": [
        {
          "output_type": "stream",
          "text": [
            "請出拳[0]剪刀[1]石頭[2]布1\n",
            "我出拳為 1\n",
            "電腦出拳為 1\n"
          ],
          "name": "stdout"
        }
      ]
    },
    {
      "cell_type": "code",
      "metadata": {
        "colab": {
          "base_uri": "https://localhost:8080/"
        },
        "id": "ZEFv-z1wwxta",
        "outputId": "ee351e9d-b746-4a91-98a8-6de9132861dc"
      },
      "source": [
        "my=int(input(\"請出拳[0]剪刀[1]石頭[2]布\"))\n",
        "print(\"我出拳為\",my)\n",
        "\n",
        "import random\n",
        "computer=random.randint(0,2)\n",
        "print(\"電腦出拳為\",computer)\n",
        "\n",
        "if my==0:\n",
        "  if computer==0:\n",
        "      print('平手')\n",
        "  elif comouter==1:\n",
        "      print('電腦獲勝')\n",
        "  else:\n",
        "      print('玩家獲勝')\n",
        "elif my==1:\n",
        "  if computer==0:\n",
        "      print('玩家獲勝')\n",
        "  elif computer==1:\n",
        "      print('平手')\n",
        "  else:\n",
        "      print('電腦獲勝')\n",
        "else:\n",
        "  if computer==1:\n",
        "      print('電腦獲勝')\n",
        "  elif computer==2:\n",
        "      print('玩家獲勝')\n",
        "  else:\n",
        "      print('平手')"
      ],
      "execution_count": 50,
      "outputs": [
        {
          "output_type": "stream",
          "text": [
            "請出拳[0]剪刀[1]石頭[2]布3\n",
            "我出拳為 3\n",
            "電腦出拳為 2\n",
            "玩家獲勝\n"
          ],
          "name": "stdout"
        }
      ]
    }
  ]
}