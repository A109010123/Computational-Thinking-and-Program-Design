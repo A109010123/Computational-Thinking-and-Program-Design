{
  "nbformat": 4,
  "nbformat_minor": 0,
  "metadata": {
    "kernelspec": {
      "display_name": "Python 3",
      "language": "python",
      "name": "python3"
    },
    "language_info": {
      "codemirror_mode": {
        "name": "ipython",
        "version": 3
      },
      "file_extension": ".py",
      "mimetype": "text/x-python",
      "name": "python",
      "nbconvert_exporter": "python",
      "pygments_lexer": "ipython3",
      "version": "3.8.5"
    },
    "colab": {
      "name": "王婉渝-Week13-作業練習",
      "provenance": [],
      "include_colab_link": true
    }
  },
  "cells": [
    {
      "cell_type": "markdown",
      "metadata": {
        "id": "view-in-github",
        "colab_type": "text"
      },
      "source": [
        "<a href=\"https://colab.research.google.com/github/A109010123/Computational-Thinking-and-Program-Design/blob/main/%E7%8E%8B%E5%A9%89%E6%B8%9D_Week13_%E4%BD%9C%E6%A5%AD%E7%B7%B4%E7%BF%92.ipynb\" target=\"_parent\"><img src=\"https://colab.research.google.com/assets/colab-badge.svg\" alt=\"Open In Colab\"/></a>"
      ]
    },
    {
      "cell_type": "markdown",
      "metadata": {
        "id": "sWtbRYdL_R8h"
      },
      "source": [
        "**隨堂練習1： BMI 計算**\n",
        "\n",
        "請寫一個程式讓使用者輸入身高與體重，顯示BMI 值與肥胖程度。 BMI 等於體重（KG）除以身高（M）的平方，而BMI 與肥胖分類標準如下：\n",
        "\n",
        "若BMI 值小於18，則顯示「體重過輕」，否則若BMI 值小於24，則顯示「體重正常」，若BMI 值小於27，則顯示「體重過重」，否則顯示「體重肥胖」。"
      ]
    },
    {
      "cell_type": "code",
      "metadata": {
        "colab": {
          "base_uri": "https://localhost:8080/"
        },
        "id": "USAb-420_R8i",
        "outputId": "0aac888d-5de2-4f04-fb54-3ee5bff9f935"
      },
      "source": [
        "w = float(input('請輸入體重（KG）？'))\n",
        "h = float(input('請輸入身高（M）？'))\n",
        "bmi = w/(h*h)\n",
        "print('BMI為', bmi)\n",
        "\n",
        "if bmi <= 18:\n",
        "    print('體重過輕') \n",
        "elif bmi <= 24:\n",
        "    print('體重正常') \n",
        "elif bmi <= 27:  \n",
        "    print('體重過重')  \n",
        "else: \n",
        "    print('體重肥胖')"
      ],
      "execution_count": 1,
      "outputs": [
        {
          "output_type": "stream",
          "text": [
            "請輸入體重（KG）？48\n",
            "請輸入身高（M）？1.58\n",
            "BMI為 19.227687870533565\n",
            "體重正常\n"
          ],
          "name": "stdout"
        }
      ]
    },
    {
      "cell_type": "markdown",
      "metadata": {
        "id": "4jyE4zwM_R8j"
      },
      "source": [
        "**隨堂練習2： 三一律(單向選擇、雙向與巢狀選擇、多向選擇)**\n",
        "\n",
        "請輸入一個數，然後判斷這個數是正數、是負數或者是零。"
      ]
    },
    {
      "cell_type": "code",
      "metadata": {
        "id": "hKavMYPQ_R8k"
      },
      "source": [
        ""
      ],
      "execution_count": null,
      "outputs": []
    },
    {
      "cell_type": "markdown",
      "metadata": {
        "id": "S_AWbR7m_R8k"
      },
      "source": [
        "**練習5   體溫與發燒**\n",
        "\n",
        "設計程式根據體溫判斷是否發燒，由使用者輸入體溫，程式判斷是否發燒，假設體溫小於36度，顯示「體溫過低」，體溫大於等於36度小於38度，顯示「體溫正常」，否則若體溫大於等於38度小於39度，顯示「體溫有點燒」，否則體溫大於等於39度，顯示「體溫很燒」。\n",
        "\n",
        "輸入體溫「36.5」，輸出為「體溫正常」。\n",
        "\n",
        "～程式執行結果如下。\n",
        "\n",
        "請輸入體溫？36.5\n",
        "\n",
        "體溫正常"
      ]
    },
    {
      "cell_type": "code",
      "metadata": {
        "colab": {
          "base_uri": "https://localhost:8080/"
        },
        "id": "IXlOLYub_R8l",
        "outputId": "00d31349-7dfa-48f1-8135-1297e7554fe1"
      },
      "source": [
        "temp=float(input('請輸入體溫'))\n",
        "\n",
        "if (temp<36):\n",
        "   print('體溫過低')\n",
        "elif (temp<38):\n",
        "  print('體溫正常')\n",
        "elif (temp<39):\n",
        "  print('體溫有點燒')\n",
        "else:\n",
        "   print('體溫很燒')"
      ],
      "execution_count": 2,
      "outputs": [
        {
          "output_type": "stream",
          "text": [
            "請輸入體溫37\n",
            "體溫正常\n"
          ],
          "name": "stdout"
        }
      ]
    },
    {
      "cell_type": "markdown",
      "metadata": {
        "id": "VR2352Tx_R8l"
      },
      "source": [
        "**練習6  閏年判斷**\n",
        "\n",
        "設計程式允許輸入西元幾年，請求出該年是否是閏年，閏年表示該年多一天，若為4的倍數稱做閏年，但若為100的倍數就不為閏年，且若為400倍數又是閏年。(四年一潤、百年不潤、四百年再潤)\n",
        "\n",
        "輸入年份「2012」，輸出為「2012是閏年」。\n",
        "\n",
        "～程式執行結果如下。\n",
        "\n",
        "請輸入年份？2012\n",
        "\n",
        "2012 是閏年"
      ]
    },
    {
      "cell_type": "code",
      "metadata": {
        "colab": {
          "base_uri": "https://localhost:8080/"
        },
        "id": "vRwpdLAG_R8m",
        "outputId": "847c8d51-3937-4317-c446-16aad9c8867e"
      },
      "source": [
        "year=int(input('請輸入年份？'))\n",
        "\n",
        "if((year%400)==0):\n",
        "    print(year,\"是閏年\")\n",
        "elif((year%100)==0):\n",
        "    print(year,\"不是閏年\")\n",
        "elif((year%4)==0):\n",
        "    print(year,\"是閏年\")\n",
        "else:\n",
        "    print(year,\"不是閏年\")"
      ],
      "execution_count": 3,
      "outputs": [
        {
          "output_type": "stream",
          "text": [
            "請輸入年份？1997\n",
            "1997 不是閏年\n"
          ],
          "name": "stdout"
        }
      ]
    },
    {
      "cell_type": "markdown",
      "metadata": {
        "id": "Z29QYZ0d_R8m"
      },
      "source": [
        "**練習12：計程車計費**\n",
        "\n",
        "某城市計程車計費3公里以內6元，超過3公里不足10公里、每公里1.8元，超過10公里則超過部分加收50%。此外停車等候每3分鐘收1元，請用Python寫出車費是多少。"
      ]
    },
    {
      "cell_type": "code",
      "metadata": {
        "colab": {
          "base_uri": "https://localhost:8080/"
        },
        "id": "OhL8Gvll_R8n",
        "outputId": "db5dd199-e1cb-4e32-94ad-9f48a3e534fd"
      },
      "source": [
        "length=int(input(\"請輸入距離\"))\n",
        "time=int(input(\"請輸入時間\"))\n",
        "if length >=10:\n",
        "   feight=6+(10-3)*1.8+(length-10)*1.8*1.5\n",
        "else:\n",
        "   if length>=3:\n",
        "      feight =6+(length-3)*1.8\n",
        "   else:\n",
        "      feight=6\n",
        "feight=feight+(time/3)*1\n",
        "print(\"計程車費是\",feight)"
      ],
      "execution_count": 8,
      "outputs": [
        {
          "output_type": "stream",
          "text": [
            "請輸入距離6\n",
            "請輸入時間2\n",
            "計程車費是 12.066666666666666\n"
          ],
          "name": "stdout"
        }
      ]
    },
    {
      "cell_type": "code",
      "metadata": {
        "id": "_qMfPh7i_R8n"
      },
      "source": [
        "2"
      ],
      "execution_count": null,
      "outputs": []
    }
  ]
}