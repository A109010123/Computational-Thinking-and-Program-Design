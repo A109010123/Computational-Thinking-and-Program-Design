{
  "nbformat": 4,
  "nbformat_minor": 0,
  "metadata": {
    "colab": {
      "name": "「王婉渝-week7-2 -練習作業.ipynb",
      "provenance": [],
      "authorship_tag": "ABX9TyMLkZ3X9J4tHFMwnBGFcZV7",
      "include_colab_link": true
    },
    "kernelspec": {
      "name": "python3",
      "display_name": "Python 3"
    },
    "language_info": {
      "name": "python"
    }
  },
  "cells": [
    {
      "cell_type": "markdown",
      "metadata": {
        "id": "view-in-github",
        "colab_type": "text"
      },
      "source": [
        "<a href=\"https://colab.research.google.com/github/A109010123/Computational-Thinking-and-Program-Design/blob/main/%E3%80%8C%E7%8E%8B%E5%A9%89%E6%B8%9D_week7_2_%E7%B7%B4%E7%BF%92%E4%BD%9C%E6%A5%AD.ipynb\" target=\"_parent\"><img src=\"https://colab.research.google.com/assets/colab-badge.svg\" alt=\"Open In Colab\"/></a>"
      ]
    },
    {
      "cell_type": "code",
      "metadata": {
        "colab": {
          "base_uri": "https://localhost:8080/",
          "height": 133
        },
        "id": "swl5YHKWYpTB",
        "outputId": "63e56097-24a2-45e3-d045-efe904d62358"
      },
      "source": [
        "1\n",
        "2\n",
        "3fruit = \"Apple\"\n",
        "4number = 2\n",
        "5total = total + number\n",
        "6# print(\"摘了\")，fruit，= \"Apple\"\n",
        "4number = 2\n",
        "5total = total + number\n",
        "6　# print(\"摘了\")，fruit\n",
        "7\n",
        "8\n",
        "9\n",
        "10\n",
        "11\n",
        "12"
      ],
      "execution_count": null,
      "outputs": [
        {
          "output_type": "error",
          "ename": "SyntaxError",
          "evalue": "ignored",
          "traceback": [
            "\u001b[0;36m  File \u001b[0;32m\"<ipython-input-1-bc1c911bc9a4>\"\u001b[0;36m, line \u001b[0;32m1\u001b[0m\n\u001b[0;31m    3fruit = \"Apple\"\u001b[0m\n\u001b[0m         ^\u001b[0m\n\u001b[0;31mSyntaxError\u001b[0m\u001b[0;31m:\u001b[0m invalid syntax\n"
          ]
        }
      ]
    },
    {
      "cell_type": "markdown",
      "metadata": {
        "id": "qZFToMGi4Cb8"
      },
      "source": [
        "## 5.整理圖書\n",
        "輸入兩個正整數a＝13和b＝11，將換a和b的值，及a=11和b=13\n",
        "~梁曉興在家中整理書櫃，原來第一層放11本爸爸的書，第二層放13本自己的書，他想將兩層圖書位置對調，請問該如合作呢？\n"
      ]
    },
    {
      "cell_type": "code",
      "metadata": {
        "id": "GMAgPVAlAYkd",
        "colab": {
          "base_uri": "https://localhost:8080/"
        },
        "outputId": "6a00469c-7b99-48a7-b4e7-2f42e9746dde"
      },
      "source": [
        "## Input\n",
        "a = 13\n",
        "b = 11\n",
        "## Process\n",
        "c = a \n",
        "a = b \n",
        "b = c\n",
        " \n",
        "## Output\n",
        "print(  c , a )\n"
      ],
      "execution_count": null,
      "outputs": [
        {
          "output_type": "stream",
          "text": [
            "13 11\n"
          ],
          "name": "stdout"
        }
      ]
    },
    {
      "cell_type": "markdown",
      "metadata": {
        "id": "NgIPr9eX54VS"
      },
      "source": [
        "## 11.分糖果遊戲\n",
        "在糖果屋中，有6位小朋友在玩分糖果遊戲。這6位小朋友的編號為1, 2, 3, 4, 5, 6，並按照自己的編號坐在一張圓桌旁。它們身上都有不同的糖果，從1號小朋友開始，將自己的糖果均分成3份，如果有多的就立刻先吃掉，然後自己留1份，其餘2份給身邊的小朋友。接著2號、3號、4號、5號、6號同學這樣做。問一輪後，每位小朋友手上有多少糖果。"
      ]
    },
    {
      "cell_type": "code",
      "metadata": {
        "id": "AuRNAqnD6V8n",
        "colab": {
          "base_uri": "https://localhost:8080/"
        },
        "outputId": "b33aa2ba-51ba-41fd-c114-de8a9a540033"
      },
      "source": [
        "a = eval(input('輸入糖果的數量? '))\n",
        "b = eval(input('輸入糖果的數量? '))\n",
        "c = eval(input('輸入糖果的數量? '))\n",
        "d = eval(input('輸入糖果的數量? '))\n",
        "e = eval(input('輸入糖果的數量? '))\n",
        "f = eval(input('輸入糖果的數量? '))\n",
        "t1 = a//3\n",
        "t2 = b//3\n",
        "t3 = c//3\n",
        "t4 = d//3\n",
        "t5 = e//3\n",
        "t6 = f//3\n",
        "child1 = t1+t2+t6\n",
        "child2 = t2+t3+t1\n",
        "child3 = t3+t4+t2\n",
        "child4 = t4+t5+t3\n",
        "child5 = t5+t6+t4\n",
        "child6 = t6+t1+t5\n",
        "print(child1,child2,child3,child4,child5,child6)"
      ],
      "execution_count": 6,
      "outputs": [
        {
          "output_type": "stream",
          "text": [
            "輸入糖果的數量? 1\n",
            "輸入糖果的數量? 2\n",
            "輸入糖果的數量? 3\n",
            "輸入糖果的數量? 4\n",
            "輸入糖果的數量? 5\n",
            "輸入糖果的數量? 6\n",
            "2 1 2 3 4 3\n"
          ],
          "name": "stdout"
        }
      ]
    },
    {
      "cell_type": "code",
      "metadata": {
        "id": "M6PvU9hDhTf1",
        "colab": {
          "base_uri": "https://localhost:8080/",
          "height": 131
        },
        "outputId": "8a67caab-673f-46c6-f968-980f2b0a0d1e"
      },
      "source": [
        "1# Input\n",
        "2 p = 3.14\n",
        "3 r1 = input(\"Enter radius 1:\")\n",
        "4 r2 = input(\"Enter radius 2:\")\n",
        "5 r1 = float(r1)\n",
        "6 r2 = float(r2)\n",
        "7\n",
        "8 ## Process\n",
        "9 area1 = p * r2 * r1\n",
        "10 area2 = p * r2 * r2\n",
        "11 area = area1 - area2\n",
        "12\n",
        "13 ## Output\n",
        "14 print(f\"得出來的答案為[areal]\"\")"
      ],
      "execution_count": 7,
      "outputs": [
        {
          "output_type": "error",
          "ename": "SyntaxError",
          "evalue": "ignored",
          "traceback": [
            "\u001b[0;36m  File \u001b[0;32m\"<ipython-input-7-9020aeebefe1>\"\u001b[0;36m, line \u001b[0;32m2\u001b[0m\n\u001b[0;31m    2 p = 3.14\u001b[0m\n\u001b[0m      ^\u001b[0m\n\u001b[0;31mSyntaxError\u001b[0m\u001b[0;31m:\u001b[0m invalid syntax\n"
          ]
        }
      ]
    }
  ]
}