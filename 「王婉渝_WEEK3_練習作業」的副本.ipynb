{
  "nbformat": 4,
  "nbformat_minor": 0,
  "metadata": {
    "colab": {
      "name": "「王婉渝-WEEK3-練習作業」的副本",
      "provenance": [],
      "authorship_tag": "ABX9TyPJprqiILDwgkCy74AcpDSb",
      "include_colab_link": true
    },
    "kernelspec": {
      "name": "python3",
      "display_name": "Python 3"
    }
  },
  "cells": [
    {
      "cell_type": "markdown",
      "metadata": {
        "id": "view-in-github",
        "colab_type": "text"
      },
      "source": [
        "<a href=\"https://colab.research.google.com/github/A109010123/Computational-Thinking-and-Program-Design/blob/main/%E3%80%8C%E7%8E%8B%E5%A9%89%E6%B8%9D_WEEK3_%E7%B7%B4%E7%BF%92%E4%BD%9C%E6%A5%AD%E3%80%8D%E7%9A%84%E5%89%AF%E6%9C%AC.ipynb\" target=\"_parent\"><img src=\"https://colab.research.google.com/assets/colab-badge.svg\" alt=\"Open In Colab\"/></a>"
      ]
    },
    {
      "cell_type": "markdown",
      "metadata": {
        "id": "DB0WHF5nNql7"
      },
      "source": [
        "#隨堂練習"
      ]
    },
    {
      "cell_type": "code",
      "metadata": {
        "colab": {
          "base_uri": "https://localhost:8080/",
          "height": 134
        },
        "id": "BNU2fmw68spr",
        "outputId": "b513841c-bb98-4fc3-dafb-e0da54723bfd"
      },
      "source": [
        "1print(1+1)"
      ],
      "execution_count": 17,
      "outputs": [
        {
          "output_type": "error",
          "ename": "SyntaxError",
          "evalue": "ignored",
          "traceback": [
            "\u001b[0;36m  File \u001b[0;32m\"<ipython-input-17-d0126f05b6d4>\"\u001b[0;36m, line \u001b[0;32m1\u001b[0m\n\u001b[0;31m    1print(1+1)\u001b[0m\n\u001b[0m         ^\u001b[0m\n\u001b[0;31mSyntaxError\u001b[0m\u001b[0;31m:\u001b[0m invalid syntax\n"
          ]
        }
      ]
    },
    {
      "cell_type": "markdown",
      "metadata": {
        "id": "QI8WpRwB9OPa"
      },
      "source": [
        "認識電腦"
      ]
    },
    {
      "cell_type": "markdown",
      "metadata": {
        "id": "czYo4r4b8LhP"
      },
      "source": [
        "# 課後練習"
      ]
    },
    {
      "cell_type": "markdown",
      "metadata": {
        "id": "FNDamvuR9aoc"
      },
      "source": [
        "新聞系學生為什麼要學「運算思維與程式設計運算思維與程式設計」的見解"
      ]
    },
    {
      "cell_type": "markdown",
      "metadata": {
        "id": "tANNbY5xB7H0"
      },
      "source": [
        "相較從前記者主要為文字及攝影編輯，現今新聞業將程式撰寫能力列入徵才條件，因此在大學就該讓學生熟悉程式設計與運用，除了在做圖、收集資料、資料分析以外，以外，在商業上也很常用電腦系統來做財報統計、資訊管理、大數據分析等等。所以學習程式設計在各方面都有幫助。"
      ]
    },
    {
      "cell_type": "code",
      "metadata": {
        "colab": {
          "base_uri": "https://localhost:8080/",
          "height": 134
        },
        "id": "Pml7YPT1EMPC",
        "outputId": "0c286fb1-aff3-499a-c155-9708de644cc2"
      },
      "source": [
        "https://www.businessweekly.com.tw/business/blog/2053"
      ],
      "execution_count": 15,
      "outputs": [
        {
          "output_type": "error",
          "ename": "SyntaxError",
          "evalue": "ignored",
          "traceback": [
            "\u001b[0;36m  File \u001b[0;32m\"<ipython-input-15-cc3860809802>\"\u001b[0;36m, line \u001b[0;32m1\u001b[0m\n\u001b[0;31m    https://www.businessweekly.com.tw/business/blog/2053\u001b[0m\n\u001b[0m           ^\u001b[0m\n\u001b[0;31mSyntaxError\u001b[0m\u001b[0;31m:\u001b[0m invalid syntax\n"
          ]
        }
      ]
    }
  ]
}